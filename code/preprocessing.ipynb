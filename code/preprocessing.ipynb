{
 "cells": [
  {
   "cell_type": "code",
   "execution_count": 4,
   "metadata": {},
   "outputs": [
    {
     "name": "stderr",
     "output_type": "stream",
     "text": [
      "[nltk_data] Downloading package stopwords to /Users/shash/nltk_data...\n",
      "[nltk_data]   Package stopwords is already up-to-date!\n",
      "[nltk_data] Downloading package wordnet to /Users/shash/nltk_data...\n",
      "[nltk_data]   Package wordnet is already up-to-date!\n"
     ]
    },
    {
     "data": {
      "text/plain": [
       "True"
      ]
     },
     "execution_count": 4,
     "metadata": {},
     "output_type": "execute_result"
    }
   ],
   "source": [
    "import pandas as pd\n",
    "import numpy as np\n",
    "import nltk\n",
    "from nltk.corpus import stopwords as nltk_stopwords\n",
    "from nltk.stem import WordNetLemmatizer\n",
    "import re\n",
    "import os\n",
    "\n",
    "nltk.download('stopwords')\n",
    "nltk.download('wordnet')"
   ]
  },
  {
   "cell_type": "code",
   "execution_count": 3,
   "metadata": {},
   "outputs": [
    {
     "name": "stdout",
     "output_type": "stream",
     "text": [
      "(5056050, 6)\n"
     ]
    }
   ],
   "source": [
    "# Read all training files and concatenate them into one dataframe\n",
    "train_csv_path = \"/Users/shash/c_ml/kaggle_ml/challenge_data/train_tweets/\"\n",
    "li = []\n",
    "for filename in os.listdir(train_csv_path):\n",
    "    df = pd.read_csv(train_csv_path + filename)\n",
    "    li.append(df)\n",
    "\n",
    "train_df = pd.concat(li, ignore_index=True)\n",
    "print(train_df.shape)"
   ]
  },
  {
   "cell_type": "code",
   "execution_count": null,
   "metadata": {},
   "outputs": [
    {
     "name": "stdout",
     "output_type": "stream",
     "text": [
      "(1072928, 5)\n"
     ]
    }
   ],
   "source": [
    "# Read all training files and concatenate them into one dataframe\n",
    "test_csv_path = \"/Users/shash/c_ml/kaggle_ml/challenge_data/eval_tweets/\"\n",
    "li = []\n",
    "for filename in os.listdir(test_csv_path):\n",
    "    df = pd.read_csv(test_csv_path + filename)\n",
    "    li.append(df)\n",
    "\n",
    "test_df = pd.concat(li, ignore_index=True)\n",
    "print(test_df.shape)"
   ]
  },
  {
   "cell_type": "code",
   "execution_count": 7,
   "metadata": {},
   "outputs": [],
   "source": [
    "def preprocessing(df):\n",
    "    # Remove retweets\n",
    "    df = df[df['Tweet'].str.findall(r\"RT @[\\w]+:\").map(len) == 0]\n",
    "\n",
    "    # Remove mentions\n",
    "    df = df[df['Tweet'].str.findall(r\"@[\\w]+\").map(len) == 0]\n",
    "    \n",
    "    df = df[df['PeriodID'] <= 129]\n",
    "\n",
    "    teams = [\n",
    "        \"Argentina\", \"Belgium\", \"Germany\", \"Australia\", \"Netherlands\", \"Spain\", \"South Korea\",\n",
    "        \"Cameroon\", \"Brazil\", \"France\", \"Nigeria\", \"Algeria\", \"USA\", \"Honduras\", \"Switzerland\",\n",
    "        \"Mexico\", \"Croatia\", \"Chile\", \"Portugal\", \"Ghana\", \"Slovenia\", \"Serbia\", \"Greece\",\n",
    "        \"Ivory Coast\",         \"ARG\", \"BEL\", \"GER\", \"AUS\", \"NED\", \"ESP\", \"KOR\", \"CMR\", \"BRA\", \"FRA\", \"NGA\", \"ALG\",\n",
    "        \"USA\", \"HON\", \"SUI\", \"MEX\", \"CRO\", \"CHL\", \"POR\", \"GHA\", \"SVN\", \"SRB\", \"GRE\", \"CIV\"\n",
    "    ]\n",
    "    \n",
    "    team_regex = r'\\b(?:' + '|'.join(re.escape(team) for team in teams) + r')\\b'\n",
    "    df['Tweet'] = df['Tweet'].str.replace(team_regex, '', case=False, regex=True)\n",
    "\n",
    "    # Remove URLs\n",
    "    df['Tweet'] = df['Tweet'].str.replace(r\"http\\S+\", \"\", regex=True)\n",
    "\n",
    "    # Remove punctuation and special characters (including numbers)\n",
    "    df['Tweet'] = df['Tweet'].str.replace(r\"[^a-zA-Z\\s]+\", \" \", regex=True)\n",
    "\n",
    "    # Lowercase all remaining tweets\n",
    "    df['Tweet'] = df['Tweet'].str.lower().astype(str)\n",
    "\n",
    "    # stopwords\n",
    "    stop_words = set(nltk_stopwords.words(\"english\"))\n",
    "    df['Tweet'] = df['Tweet'].apply(lambda x: ' '.join([word for word in x.split() if word not in stop_words]))\n",
    "\n",
    "    # lemmatization\n",
    "    lemmatizer = WordNetLemmatizer()\n",
    "    df['Tweet'] = df['Tweet'].apply(lambda x: ' '.join([lemmatizer.lemmatize(word) for word in x.split()]))\n",
    "    \n",
    "    # Remove duplicated tweets\n",
    "    df.drop_duplicates(inplace=True)\n",
    "\n",
    "    return df"
   ]
  },
  {
   "cell_type": "code",
   "execution_count": 8,
   "metadata": {},
   "outputs": [
    {
     "name": "stdout",
     "output_type": "stream",
     "text": [
      "(1778619, 6)\n",
      "(443811, 5)\n",
      "Data preprocessing done!\n"
     ]
    }
   ],
   "source": [
    "train_df = preprocessing(train_df)\n",
    "print(train_df.shape)\n",
    "\n",
    "test_df = preprocessing(test_df)\n",
    "print(test_df.shape)\n",
    "\n",
    "test_df.to_pickle('final_data/test_df.pkl')\n",
    "train_df.to_pickle('final_data/train_df.pkl')\n",
    "\n",
    "print(\"Data preprocessing done!\")"
   ]
  }
 ],
 "metadata": {
  "kernelspec": {
   "display_name": "pytorch",
   "language": "python",
   "name": "python3"
  },
  "language_info": {
   "codemirror_mode": {
    "name": "ipython",
    "version": 3
   },
   "file_extension": ".py",
   "mimetype": "text/x-python",
   "name": "python",
   "nbconvert_exporter": "python",
   "pygments_lexer": "ipython3",
   "version": "3.11.9"
  }
 },
 "nbformat": 4,
 "nbformat_minor": 2
}
